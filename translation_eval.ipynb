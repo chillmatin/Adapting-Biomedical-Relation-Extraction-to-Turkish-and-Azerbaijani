{
 "cells": [
  {
   "cell_type": "markdown",
   "id": "c46e9089",
   "metadata": {},
   "source": []
  },
  {
   "cell_type": "code",
   "execution_count": 17,
   "id": "c9ce7c77",
   "metadata": {},
   "outputs": [
    {
     "name": "stdout",
     "output_type": "stream",
     "text": [
      "az_data:  {'train': [{'hash': 4949362006691917048, 'original_tokens': ['In', 'unanesthetized', ',', 'spontaneously', 'hypertensive', 'rats', 'the', 'decrease', 'in', 'blood', 'pressure', 'and', 'heart', 'rate', 'produced', 'by', 'intravenous', 'clonidine', ',', '5', 'to', '20', 'micrograms', '/', 'kg', ',', 'was', 'inhibited', 'or', 'reversed', 'by', 'nalozone', ',', '0', '.'], 'tokens': ['Anesteziya', 'edilməmiş,', 'spontan', 'hipertansiyonu', 'olan', 'si\n"
     ]
    }
   ],
   "source": [
    "import json\n",
    "import pandas as pd \n",
    "import random   \n",
    "random.seed(42)\n",
    "\n",
    "# import translated_ds_az.json and translated_ds_tr.json \n",
    "with open('translated_ds_az.json', 'r', encoding='utf-8') as f:\n",
    "    az_data = json.load(f)\n",
    "\n",
    "with open('translated_ds_tr.json', 'r', encoding='utf-8') as f:\n",
    "    tr_data = json.load(f)\n",
    "\n",
    "\n",
    "\n",
    "# Print the first 50 characters of the string representation of az_data\n",
    "print(\"az_data: \", str(az_data)[:450])"
   ]
  },
  {
   "cell_type": "code",
   "execution_count": 18,
   "id": "6ab4de99",
   "metadata": {},
   "outputs": [
    {
     "name": "stdout",
     "output_type": "stream",
     "text": [
      "az_data:  [{'hash': 4949362006691917048, 'original_tokens': ['In', 'unanesthetized', ',', 'spontaneously', 'hypertensive', 'rats', 'the', 'decrease', 'in', 'blood', 'pressure', 'and', 'heart', 'rate', 'produced', 'by', 'intravenous', 'clonidine', ',', '5', 'to', '20', 'micrograms', '/', 'kg', ',', 'was', 'inhibited', 'or', 'reversed', 'by', 'nalozone', ',', '0', '.'], 'tokens': ['Anesteziya', 'edilməmiş,', 'spontan', 'hipertansiyonu', 'olan', 'siçanlarda,'\n",
      "tr_data:  [{'hash': 4949362006691917048, 'original_tokens': ['In', 'unanesthetized', ',', 'spontaneously', 'hypertensive', 'rats', 'the', 'decrease', 'in', 'blood', 'pressure', 'and', 'heart', 'rate', 'produced', 'by', 'intravenous', 'clonidine', ',', '5', 'to', '20', 'micrograms', '/', 'kg', ',', 'was', 'inhibited', 'or', 'reversed', 'by', 'nalozone', ',', '0', '.'], 'tokens': ['Anestezi', 'uygulanmamış,', 'spontan', 'hipertansif', 'sıçanlarda', 'intraven\n"
     ]
    }
   ],
   "source": [
    "az_data_combined = az_data['train'] + az_data['test'] + az_data['validation']\n",
    "tr_data_combined = tr_data['train'] + tr_data['test'] + tr_data['validation']\n",
    "\n",
    "# Print the first 50 characters of the string representation of az_data\n",
    "print(\"az_data: \", str(az_data_combined)[:450])\n",
    "print(\"tr_data: \", str(tr_data_combined)[:450])"
   ]
  },
  {
   "cell_type": "code",
   "execution_count": 19,
   "id": "bbef3eb6",
   "metadata": {},
   "outputs": [
    {
     "name": "stdout",
     "output_type": "stream",
     "text": [
      "az_data:  [{'hash': -9223018363815876733, 'original_tokens': ['Systemically', 'administered', 'corticosteroids', 'were', 'used', 'in', '75', 'of', '210', 'cases', ';', 'a', 'significant', 'number', 'of', 'posterior', 'subcapsular', 'cataracts', 'was', 'found', '.'], 'tokens': ['Sistematik', 'olaraq', 'tətbiq', 'olunan', 'kortikosteroidlər', '210', 'hadisənin', '75-də', 'istifadə', 'olunmuşdur;', 'arxa', 'subkapsulyar', 'kataraktların', 'əhəmiyyətli', 'sayı\n",
      "tr_data:  [{'hash': -9223018363815876733, 'original_tokens': ['Systemically', 'administered', 'corticosteroids', 'were', 'used', 'in', '75', 'of', '210', 'cases', ';', 'a', 'significant', 'number', 'of', 'posterior', 'subcapsular', 'cataracts', 'was', 'found', '.'], 'tokens': ['Sistemik', 'olarak', 'uygulanan', 'kortikosteroidler', '210', 'vakadan', \"75'inde\", 'kullanıldı;', 'önemli', 'sayıda', 'arka', 'subkapsüler', 'katarakt', 'bulundu.'], 'original_tags\n",
      "                                                        original_tokens  \\\n",
      "hash                                                                      \n",
      "-9223018363815876733  [Systemically, administered, corticosteroids, ...   \n",
      "-9221876745876020649  [These, findings, demonstrate, a, sexually, -,...   \n",
      "-9220669379910079832  [Methimazole, -, induced, cholestatic, jaundic...   \n",
      "-9220448508870945871  [5, times, )., In, meningioma, and, metastases...   \n",
      "-9212741474611919203  [Since, most, of, Wilson's, disease, penicilla...   \n",
      "\n",
      "                                                                 tokens  \\\n",
      "hash                                                                      \n",
      "-9223018363815876733  [Sistematik, olaraq, tətbiq, olunan, kortikost...   \n",
      "-9221876745876020649  [Bu, tapıntılar,, NMDA, antagonistləri, ilə, m...   \n",
      "-9220669379910079832  [Metimazolun, səbəb, olduğu, xolestatik, sarıl...   \n",
      "-9220448508870945871  [Meningioma, və, metastaz, xəstələrində, plazm...   \n",
      "-9212741474611919203  [Wilson, xəstəliyinin, penisillaminlə, müalicə...   \n",
      "\n",
      "                                                          original_tags  \\\n",
      "hash                                                                      \n",
      "-9223018363815876733  [0, 0, 1, 0, 0, 0, 0, 0, 0, 0, 0, 0, 0, 0, 0, ...   \n",
      "-9221876745876020649  [0, 0, 0, 0, 0, 0, 0, 0, 0, 1, 0, 0, 1, 0, 0, ...   \n",
      "-9220669379910079832                                 [1, 0, 0, 2, 3, 0]   \n",
      "-9220448508870945871  [0, 0, 0, 0, 2, 0, 2, 0, 0, 0, 0, 1, 0, 0, 0, ...   \n",
      "-9212741474611919203  [0, 0, 0, 2, 3, 1, 0, 0, 0, 0, 0, 0, 0, 0, 0, ...   \n",
      "\n",
      "                                                                   tags  grade  \n",
      "hash                                                                            \n",
      "-9223018363815876733   [0, 0, 1, 0, 1, 0, 0, 0, 0, 0, 2, 0, 0, 0, 0, 0]     -1  \n",
      "-9221876745876020649  [0, 0, 1, 0, 0, 1, 0, 0, 0, 0, 0, 0, 0, 0, 0, ...     -1  \n",
      "-9220669379910079832                                    [1, 0, 0, 2, 3]     -1  \n",
      "-9220448508870945871  [2, 0, 2, 0, 0, 1, 0, 4, 0, 0, 0, 0, 0, 0, 0, ...     -1  \n",
      "-9212741474611919203  [2, 3, 1, 0, 0, 2, 3, 0, 0, 0, 0, 0, 0, 0, 0, ...     -1  \n"
     ]
    }
   ],
   "source": [
    "# sort both dictionaries by the 'hash' key\n",
    "az_data_combined.sort(key=lambda x: x['hash'])\n",
    "tr_data_combined.sort(key=lambda x: x['hash'])\n",
    "\n",
    "# add a key called 'grade' to all elements and set it to -1 for both tr and az\n",
    "for i in range(len(az_data_combined)):\n",
    "    az_data_combined[i]['grade'] = -1\n",
    "for i in range(len(tr_data_combined)):\n",
    "    tr_data_combined[i]['grade'] = -1\n",
    "    \n",
    "# Print the first 50 characters of the string representation of az_data\n",
    "print(\"az_data: \", str(az_data_combined)[:450])\n",
    "print(\"tr_data: \", str(tr_data_combined)[:450])\n",
    "\n",
    "# make \"hash\" key the index of both dictionaries. \n",
    "az_data_combined = pd.DataFrame(az_data_combined).set_index('hash')\n",
    "tr_data_combined = pd.DataFrame(tr_data_combined).set_index('hash')\n",
    "\n",
    "print(az_data_combined.head())\n",
    "\n"
   ]
  },
  {
   "cell_type": "code",
   "execution_count": 20,
   "id": "f74b39a0",
   "metadata": {},
   "outputs": [
    {
     "name": "stdout",
     "output_type": "stream",
     "text": [
      "random_hashes:  [8261020992805456254, -6214467808701976160, -8584999046658129542, -1802720090277274588, -2610491535647856396, -3165029955329243073, -5495990678229533218, -6490842042804637505, 5668949213513672564, -6904716919606353300]\n",
      "Hash:  8261020992805456254\n",
      "EN:  Previous clinical studies have proposed that risperidone ' s pharmacologic profile may produce improved efficacy for negative psychotic symptoms and decreased propensity for extrapyramidal side effects ; features shared by so - called ' atypical ' neuroleptics .\n",
      "AZ:  Əvvəlki klinik tədqiqatlar risperidonun farmakoloji profilinin mənfi psixotik simptomlar üçün yaxşılaşdırılmış effektivlik və ekstrapiramidal yan təsirlərə qarşı azalmış meyl yarada biləcəyini təklif etmişdir; bu, \"atipik\" neuroleptiklərin paylaşdığı xüsusiyyətlərdir.\n",
      "TR:  Önceki klinik çalışmalar, risperidonun farmakolojik profilinin negatif psikotik semptomlar için geliştirilmiş etkinlik ve ekstrapiramidal yan etkiler için azalmış eğilim üretebileceğini önermiştir; bu özellikler, sözde 'atipik' nöroleptiklerle paylaşılmaktadır.\n"
     ]
    },
    {
     "name": "stderr",
     "output_type": "stream",
     "text": [
      "/tmp/ipykernel_8935/3217755635.py:26: FutureWarning: Setting an item of incompatible dtype is deprecated and will raise an error in a future version of pandas. Value '2' has dtype incompatible with int64, please explicitly cast to a compatible dtype first.\n",
      "  az_data_combined.loc[hash, 'grade'] = az_grade\n",
      "/tmp/ipykernel_8935/3217755635.py:27: FutureWarning: Setting an item of incompatible dtype is deprecated and will raise an error in a future version of pandas. Value '3' has dtype incompatible with int64, please explicitly cast to a compatible dtype first.\n",
      "  tr_data_combined.loc[hash, 'grade'] = tr_grade\n"
     ]
    },
    {
     "name": "stdout",
     "output_type": "stream",
     "text": [
      "\u001b[H\u001b[JHash:  -6214467808701976160\n",
      "EN:  This report demonstrates that not only intravenous , but also oral bisphosphonates can aggravate proteinuria and acute renal failure\n",
      "AZ:  Bu hesabat göstərir ki, yalnız intravenöz, həm də ağızdan qəbul edilən bisfosfonatlar proteinuriya və kəskin böyrək çatışmazlığını pisləşdirə bilər.\n",
      "TR:  Bu rapor, yalnızca intravenöz bisfosfonatların değil, aynı zamanda oral bisfosfonatların da proteinüriyi ve akut böbrek yetmezliğini kötüleştirebileceğini göstermektedir.\n",
      "\u001b[H\u001b[JHash:  -8584999046658129542\n",
      "EN:  Mirtazapine , the first noradrenergic and specific serotonergic antidepressant ( NaSSA ), has been associated with RLS in several recent publications .\n",
      "AZ:  Mirtazapin, ilk noradrenerjik və spesifik serotonin antidepressanı (NaSSA), son bir neçə nəşrdə RLS ilə əlaqələndirilmişdir.\n",
      "TR:  Mirtazapin, ilk noradrenerjik ve spesifik serotoninerg antidepresan (NaSSA), son birkaç yayında RLS ile ilişkilendirilmiştir.\n",
      "\u001b[H\u001b[JHash:  -1802720090277274588\n",
      "EN:  BACKGROUND : The use of appetite suppressants in Europe has been associated with the development of primary pulmonary hypertension ( PPH ). Recently , fenfluramine appetite suppressants became widely used in the United States but were withdrawn in September 1997 because of concerns over adverse effects .\n",
      "AZ:  MƏNBƏ: Avropada iştah azaldıcıların istifadəsi birincil pulmonar hipertensiyanın (PPH) inkişafı ilə əlaqələndirilmişdir. Son zamanlarda fenfluramin iştah azaldıcıları ABŞ-da geniş istifadə edilməyə başlandı, lakin 1997-ci ilin sentyabrında mənfi təsirlər ilə bağlı narahatlıqlar səbəbindən geri çağırıldı.\n",
      "TR:  ARKA PLAN: Avrupa'da iştah kesici ilaçların kullanımı, primer pulmoner hipertansiyon (PPH) gelişimi ile ilişkilendirilmiştir. Son zamanlarda, fenfluramin iştah kesicileri Amerika Birleşik Devletleri'nde yaygın olarak kullanılmaya başlandı ancak olumsuz etkilerle ilgili endişeler nedeniyle Eylül 1997'de geri çekildi.\n",
      "\u001b[H\u001b[JHash:  -2610491535647856396\n",
      "EN:  The current study dealt with the protective role of mangiferin , a polyphenol from Mangifera indica Linn .( Anacardiaceae ), on isoproterenol ( ISPH )- induced myocardial infarction ( MI ) in rats through its antioxidative mechanism .\n",
      "AZ:  Mövcud tədqiqat, Mangifera indica Linn. (Anacardiaceae) bitkisindən alınan polifenol olan mangiferinin, isoproterenol (ISPH) tərəfindən törədilən miokard infarktı (MI) üzərindəki qoruyucu rolunu onun antioksidant mexanizmi vasitəsilə araşdırmışdır.\n",
      "TR:  Mevcut çalışma, Mangifera indica Linn. (Anacardiaceae) bitkisinden elde edilen bir polifenol olan mangiferinin, izoproterenol (ISPH) ile indüklenen miyokard enfarktüsü (MI) üzerindeki koruyucu rolünü, antioksidan mekanizması aracılığıyla sıçanlar üzerinde incelemiştir.\n",
      "\u001b[H\u001b[JHash:  -3165029955329243073\n",
      "EN:  STZ also significantly increased the level of ROS , nitrite , Ca ( 2 +) and reduced the mitochondrial activity in synaptosomal preparation illustrating free radical generation and excitotoxicity .\n",
      "AZ:  STZ həmçinin ROS, nitrit, Ca (2+) səviyyəsini əhəmiyyətli dərəcədə artırdı və sinaptosomal hazırlıqda mitoxondrial aktivliyi azaltdı, bu da sərbəst radikal istehsalını və eksitotoksikliyi göstərir.\n",
      "TR:  STZ ayrıca ROS, nitrit, Ca (2+) seviyelerini önemli ölçüde artırmış ve sinaptosomal hazırlıkta mitokondriyal aktiviteyi azaltarak serbest radikal oluşumunu ve eksitotoksisiteyi göstermiştir.\n"
     ]
    },
    {
     "ename": "KeyboardInterrupt",
     "evalue": "Interrupted by user",
     "output_type": "error",
     "traceback": [
      "\u001b[0;31m---------------------------------------------------------------------------\u001b[0m",
      "\u001b[0;31mKeyboardInterrupt\u001b[0m                         Traceback (most recent call last)",
      "Cell \u001b[0;32mIn[20], line 23\u001b[0m\n\u001b[1;32m     21\u001b[0m \u001b[38;5;28mprint\u001b[39m(\u001b[38;5;124m\"\u001b[39m\u001b[38;5;124mAZ: \u001b[39m\u001b[38;5;124m\"\u001b[39m, \u001b[38;5;124m\"\u001b[39m\u001b[38;5;124m \u001b[39m\u001b[38;5;124m\"\u001b[39m\u001b[38;5;241m.\u001b[39mjoin(az_data_combined\u001b[38;5;241m.\u001b[39mloc[\u001b[38;5;28mhash\u001b[39m][\u001b[38;5;124m'\u001b[39m\u001b[38;5;124mtokens\u001b[39m\u001b[38;5;124m'\u001b[39m]))\n\u001b[1;32m     22\u001b[0m \u001b[38;5;28mprint\u001b[39m(\u001b[38;5;124m\"\u001b[39m\u001b[38;5;124mTR: \u001b[39m\u001b[38;5;124m\"\u001b[39m, \u001b[38;5;124m\"\u001b[39m\u001b[38;5;124m \u001b[39m\u001b[38;5;124m\"\u001b[39m\u001b[38;5;241m.\u001b[39mjoin(tr_data_combined\u001b[38;5;241m.\u001b[39mloc[\u001b[38;5;28mhash\u001b[39m][\u001b[38;5;124m'\u001b[39m\u001b[38;5;124mtokens\u001b[39m\u001b[38;5;124m'\u001b[39m]))\n\u001b[0;32m---> 23\u001b[0m az_grade \u001b[38;5;241m=\u001b[39m \u001b[38;5;28;43minput\u001b[39;49m\u001b[43m(\u001b[49m\u001b[38;5;124;43m\"\u001b[39;49m\u001b[38;5;124;43mGrade for Azerbaijani (0-4): \u001b[39;49m\u001b[38;5;124;43m\"\u001b[39;49m\u001b[43m)\u001b[49m\n\u001b[1;32m     24\u001b[0m tr_grade \u001b[38;5;241m=\u001b[39m \u001b[38;5;28minput\u001b[39m(\u001b[38;5;124m\"\u001b[39m\u001b[38;5;124mGrade for Turkish (0-4): \u001b[39m\u001b[38;5;124m\"\u001b[39m)\n\u001b[1;32m     25\u001b[0m \u001b[38;5;66;03m# add the grades to the respective dataframes\u001b[39;00m\n",
      "File \u001b[0;32m~/miniconda3/lib/python3.12/site-packages/ipykernel/kernelbase.py:1282\u001b[0m, in \u001b[0;36mKernel.raw_input\u001b[0;34m(self, prompt)\u001b[0m\n\u001b[1;32m   1280\u001b[0m     msg \u001b[38;5;241m=\u001b[39m \u001b[38;5;124m\"\u001b[39m\u001b[38;5;124mraw_input was called, but this frontend does not support input requests.\u001b[39m\u001b[38;5;124m\"\u001b[39m\n\u001b[1;32m   1281\u001b[0m     \u001b[38;5;28;01mraise\u001b[39;00m StdinNotImplementedError(msg)\n\u001b[0;32m-> 1282\u001b[0m \u001b[38;5;28;01mreturn\u001b[39;00m \u001b[38;5;28;43mself\u001b[39;49m\u001b[38;5;241;43m.\u001b[39;49m\u001b[43m_input_request\u001b[49m\u001b[43m(\u001b[49m\n\u001b[1;32m   1283\u001b[0m \u001b[43m    \u001b[49m\u001b[38;5;28;43mstr\u001b[39;49m\u001b[43m(\u001b[49m\u001b[43mprompt\u001b[49m\u001b[43m)\u001b[49m\u001b[43m,\u001b[49m\n\u001b[1;32m   1284\u001b[0m \u001b[43m    \u001b[49m\u001b[38;5;28;43mself\u001b[39;49m\u001b[38;5;241;43m.\u001b[39;49m\u001b[43m_parent_ident\u001b[49m\u001b[43m[\u001b[49m\u001b[38;5;124;43m\"\u001b[39;49m\u001b[38;5;124;43mshell\u001b[39;49m\u001b[38;5;124;43m\"\u001b[39;49m\u001b[43m]\u001b[49m\u001b[43m,\u001b[49m\n\u001b[1;32m   1285\u001b[0m \u001b[43m    \u001b[49m\u001b[38;5;28;43mself\u001b[39;49m\u001b[38;5;241;43m.\u001b[39;49m\u001b[43mget_parent\u001b[49m\u001b[43m(\u001b[49m\u001b[38;5;124;43m\"\u001b[39;49m\u001b[38;5;124;43mshell\u001b[39;49m\u001b[38;5;124;43m\"\u001b[39;49m\u001b[43m)\u001b[49m\u001b[43m,\u001b[49m\n\u001b[1;32m   1286\u001b[0m \u001b[43m    \u001b[49m\u001b[43mpassword\u001b[49m\u001b[38;5;241;43m=\u001b[39;49m\u001b[38;5;28;43;01mFalse\u001b[39;49;00m\u001b[43m,\u001b[49m\n\u001b[1;32m   1287\u001b[0m \u001b[43m\u001b[49m\u001b[43m)\u001b[49m\n",
      "File \u001b[0;32m~/miniconda3/lib/python3.12/site-packages/ipykernel/kernelbase.py:1325\u001b[0m, in \u001b[0;36mKernel._input_request\u001b[0;34m(self, prompt, ident, parent, password)\u001b[0m\n\u001b[1;32m   1322\u001b[0m \u001b[38;5;28;01mexcept\u001b[39;00m \u001b[38;5;167;01mKeyboardInterrupt\u001b[39;00m:\n\u001b[1;32m   1323\u001b[0m     \u001b[38;5;66;03m# re-raise KeyboardInterrupt, to truncate traceback\u001b[39;00m\n\u001b[1;32m   1324\u001b[0m     msg \u001b[38;5;241m=\u001b[39m \u001b[38;5;124m\"\u001b[39m\u001b[38;5;124mInterrupted by user\u001b[39m\u001b[38;5;124m\"\u001b[39m\n\u001b[0;32m-> 1325\u001b[0m     \u001b[38;5;28;01mraise\u001b[39;00m \u001b[38;5;167;01mKeyboardInterrupt\u001b[39;00m(msg) \u001b[38;5;28;01mfrom\u001b[39;00m \u001b[38;5;28;01mNone\u001b[39;00m\n\u001b[1;32m   1326\u001b[0m \u001b[38;5;28;01mexcept\u001b[39;00m \u001b[38;5;167;01mException\u001b[39;00m:\n\u001b[1;32m   1327\u001b[0m     \u001b[38;5;28mself\u001b[39m\u001b[38;5;241m.\u001b[39mlog\u001b[38;5;241m.\u001b[39mwarning(\u001b[38;5;124m\"\u001b[39m\u001b[38;5;124mInvalid Message:\u001b[39m\u001b[38;5;124m\"\u001b[39m, exc_info\u001b[38;5;241m=\u001b[39m\u001b[38;5;28;01mTrue\u001b[39;00m)\n",
      "\u001b[0;31mKeyboardInterrupt\u001b[0m: Interrupted by user"
     ]
    }
   ],
   "source": [
    "# Convert lists to DataFrames and set 'hash' as index if not already done\n",
    "if not isinstance(az_data_combined, pd.DataFrame):\n",
    "    az_data_combined = pd.DataFrame(az_data_combined).set_index('hash')\n",
    "if not isinstance(tr_data_combined, pd.DataFrame):\n",
    "    tr_data_combined = pd.DataFrame(tr_data_combined).set_index('hash')\n",
    "\n",
    "random_hashes = random.sample(list(az_data_combined.index), 10)\n",
    "print(\"random_hashes: \", random_hashes[:10])\n",
    "\n",
    "# 5 Grades of translation: \n",
    "# 0 = Semantically wrong\n",
    "# 1 = Major syntaxical errors\n",
    "# 2 = Minor syntaxical errors\n",
    "# 3 = Correct translation\n",
    "# 4 = Not applicable (e.g. the text is not a translation)\n",
    "\n",
    "# Loop over random hashes and let user manually grade the translation. \n",
    "for hash in random_hashes:\n",
    "    print(\"Hash: \", hash)\n",
    "    print(\"EN: \", \" \".join(az_data_combined.loc[hash]['original_tokens']))\n",
    "    print(\"AZ: \", \" \".join(az_data_combined.loc[hash]['tokens']))\n",
    "    print(\"TR: \", \" \".join(tr_data_combined.loc[hash]['tokens']))\n",
    "    az_grade = input(\"Grade for Azerbaijani (0-4): \")\n",
    "    tr_grade = input(\"Grade for Turkish (0-4): \")\n",
    "    # add the grades to the respective dataframes\n",
    "    az_data_combined.loc[hash, 'grade'] = az_grade\n",
    "    tr_data_combined.loc[hash, 'grade'] = tr_grade\n",
    "    \n",
    "    # clear the screen\n",
    "    print(\"\\033[H\\033[J\", end='')\n",
    "    \n",
    "\n",
    "# print grades of both dataframes\n",
    "print(\"tr_data_combined grades: \", tr_data_combined['grade'])\n",
    "print(\"az_data_combined grades: \", az_data_combined['grade'])\n"
   ]
  },
  {
   "cell_type": "code",
   "execution_count": null,
   "id": "7e793a73",
   "metadata": {},
   "outputs": [],
   "source": [
    "4"
   ]
  }
 ],
 "metadata": {
  "kernelspec": {
   "display_name": "base",
   "language": "python",
   "name": "python3"
  },
  "language_info": {
   "codemirror_mode": {
    "name": "ipython",
    "version": 3
   },
   "file_extension": ".py",
   "mimetype": "text/x-python",
   "name": "python",
   "nbconvert_exporter": "python",
   "pygments_lexer": "ipython3",
   "version": "3.12.2"
  }
 },
 "nbformat": 4,
 "nbformat_minor": 5
}
